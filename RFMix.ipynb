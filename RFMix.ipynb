{
 "cells": [
  {
   "cell_type": "markdown",
   "metadata": {},
   "source": [
    "# Local Ancestry Analysis for Admixed Individuals of Interest\n",
    "Based on dimensionality reduction modeling, we have identified four individuals of interest. Two of whom are AMR individuals who cluster near ancestral populations and the other two are individuals from the ancestral populations. "
   ]
  },
  {
   "cell_type": "markdown",
   "metadata": {},
   "source": [
    "For HG00553 (PUR) & HG01879 (ACB), we will look at CEU, ACB, and PJL. For HG01572 (PEL) & HG02380 (CDX), we will look at CDX, CEU, and BEB. This was determined by selecting three subpopulations from super populations that seemed most fitting for the admixed individuals. "
   ]
  },
  {
   "cell_type": "markdown",
   "metadata": {},
   "source": [
    "## First, we prepared RFMix files for local ancestry"
   ]
  },
  {
   "cell_type": "markdown",
   "metadata": {},
   "source": [
    "Below is our code from HG02380 for CDX and CEU. Here, we get .map, .alleles, and .snp_locations for each chromosome based on the background populations and our individual of interest. Similarly, we also get a .classes file displaying the subpopulations."
   ]
  },
  {
   "cell_type": "code",
   "execution_count": 1,
   "metadata": {
    "scrolled": true
   },
   "outputs": [
    {
     "name": "stdout",
     "output_type": "stream",
     "text": [
      "Filling sites and genos from shapeit haps files [2020-05-29 23:53:48]\n",
      "Getting intersection between reference and admixed sites [2020-05-29 23:54:16]\n",
      "Getting genetic positions through known genetic map and interpolation [2020-05-29 23:54:26]\n",
      "Writing classes file [2020-05-29 23:54:47]\n",
      "Getting haplotypes of interest [2020-05-29 23:54:47]\n",
      "Writing alleles file (total sites=2855220) [2020-05-30 00:11:27]\n",
      "Done! [2020-05-30 00:12:24]\n",
      "Filling sites and genos from shapeit haps files [2020-05-29 23:57:25]\n",
      "Getting intersection between reference and admixed sites [2020-05-29 23:57:49]\n",
      "Getting genetic positions through known genetic map and interpolation [2020-05-29 23:57:59]\n",
      "Writing classes file [2020-05-29 23:58:53]\n",
      "Getting haplotypes of interest [2020-05-29 23:58:53]\n",
      "Writing alleles file (total sites=2652539) [2020-05-30 00:14:24]\n",
      "Done! [2020-05-30 00:14:59]\n",
      "Filling sites and genos from shapeit haps files [2020-05-30 00:12:51]\n",
      "Getting intersection between reference and admixed sites [2020-05-30 00:13:14]\n",
      "Getting genetic positions through known genetic map and interpolation [2020-05-30 00:13:22]\n",
      "Writing classes file [2020-05-30 00:13:47]\n",
      "Getting haplotypes of interest [2020-05-30 00:13:47]\n",
      "Writing alleles file (total sites=2422231) [2020-05-30 00:20:13]\n",
      "Done! [2020-05-30 00:20:29]\n",
      "Filling sites and genos from shapeit haps files [2020-05-30 00:15:19]\n",
      "Getting intersection between reference and admixed sites [2020-05-30 00:15:34]\n",
      "Getting genetic positions through known genetic map and interpolation [2020-05-30 00:15:41]\n",
      "Writing classes file [2020-05-30 00:16:09]\n",
      "Getting haplotypes of interest [2020-05-30 00:16:09]\n",
      "Writing alleles file (total sites=2695221) [2020-05-30 00:22:11]\n",
      "Done! [2020-05-30 00:22:30]\n",
      "Filling sites and genos from shapeit haps files [2020-05-30 00:20:36]\n",
      "Getting intersection between reference and admixed sites [2020-05-30 00:20:44]\n",
      "Getting genetic positions through known genetic map and interpolation [2020-05-30 00:20:47]\n",
      "Writing classes file [2020-05-30 00:20:57]\n",
      "Getting haplotypes of interest [2020-05-30 00:20:57]\n",
      "Writing alleles file (total sites=2326674) [2020-05-30 00:26:00]\n",
      "Done! [2020-05-30 00:26:15]\n",
      "Filling sites and genos from shapeit haps files [2020-05-30 00:22:39]\n",
      "Getting intersection between reference and admixed sites [2020-05-30 00:22:46]\n",
      "Getting genetic positions through known genetic map and interpolation [2020-05-30 00:22:49]\n",
      "Writing classes file [2020-05-30 00:22:56]\n",
      "Getting haplotypes of interest [2020-05-30 00:22:56]\n",
      "Writing alleles file (total sites=2265114) [2020-05-30 00:28:01]\n",
      "Done! [2020-05-30 00:28:16]\n",
      "Filling sites and genos from shapeit haps files [2020-05-30 00:26:22]\n",
      "Getting intersection between reference and admixed sites [2020-05-30 00:26:28]\n",
      "Getting genetic positions through known genetic map and interpolation [2020-05-30 00:26:31]\n",
      "Writing classes file [2020-05-30 00:26:39]\n",
      "Getting haplotypes of interest [2020-05-30 00:26:39]\n",
      "Writing alleles file (total sites=1830253) [2020-05-30 00:30:30]\n",
      "Done! [2020-05-30 00:30:41]\n",
      "Filling sites and genos from shapeit haps files [2020-05-30 00:28:24]\n",
      "Getting intersection between reference and admixed sites [2020-05-30 00:28:30]\n",
      "Getting genetic positions through known genetic map and interpolation [2020-05-30 00:28:33]\n",
      "Writing classes file [2020-05-30 00:28:38]\n",
      "Getting haplotypes of interest [2020-05-30 00:28:38]\n",
      "Writing alleles file (total sites=1811150) [2020-05-30 00:33:23]\n",
      "Done! [2020-05-30 00:33:43]\n",
      "Filling sites and genos from shapeit haps files [2020-05-30 00:30:46]\n",
      "Getting intersection between reference and admixed sites [2020-05-30 00:30:49]\n",
      "Getting genetic positions through known genetic map and interpolation [2020-05-30 00:30:51]\n",
      "Writing classes file [2020-05-30 00:31:13]\n",
      "Getting haplotypes of interest [2020-05-30 00:31:13]\n",
      "Writing alleles file (total sites=1104402) [2020-05-30 00:35:17]\n",
      "Done! [2020-05-30 00:36:36]\n",
      "Filling sites and genos from shapeit haps files [2020-05-30 00:33:51]\n",
      "Getting intersection between reference and admixed sites [2020-05-30 00:33:57]\n",
      "Getting genetic positions through known genetic map and interpolation [2020-05-30 00:33:59]\n",
      "Writing classes file [2020-05-30 00:34:10]\n",
      "Getting haplotypes of interest [2020-05-30 00:34:10]\n",
      "Writing alleles file (total sites=1102372) [2020-05-30 00:58:23]\n",
      "Done! [2020-05-30 00:58:30]\n"
     ]
    },
    {
     "name": "stderr",
     "output_type": "stream",
     "text": [
      "Killed\n",
      "Killed\n",
      "Killed\n",
      "Killed\n",
      "Killed\n",
      "Killed\n",
      "Killed\n",
      "Killed\n",
      "Killed\n",
      "Killed\n",
      "Killed\n",
      "Killed\n"
     ]
    },
    {
     "ename": "CalledProcessError",
     "evalue": "Command 'b'\\n# Prepare RFMix files for local ancestry\\n\\ncat /datasets/cs284s-sp20-public/ps2/imputation/1000GP_Phase3/1000GP_Phase3.sample| grep \"CDX\\\\|CEU\" | cut -d\\' \\' -f 1 > /home/arholman/final/rfmix2/1kg.ref\\ncat /datasets/cs284s-sp20-public/ps2/imputation/1000GP_Phase3/1000GP_Phase3.sample | grep \"HG01572\" | cut -d\\' \\' -f 1 >> /home/arholman/final/rfmix2/1kg.ref\\n\\nfor i in $(seq 1 22)\\ndo\\n    cmd=\"python2.7 /home/arholman/final/shapeit2rfmix-mg2.py \\\\\\n    --shapeit_hap_ref /datasets/cs284s-sp20-public/ps2/imputation/1000GP_Phase3/1000GP_Phase3_chr${i}.hap.gz \\\\\\n    --shapeit_hap_ref_legend /datasets/cs284s-sp20-public/ps2/imputation/1000GP_Phase3/1000GP_Phase3_chr${i}.legend.gz \\\\\\n    --shapeit_sample_ref /datasets/cs284s-sp20-public/ps2/imputation/1000GP_Phase3/1000GP_Phase3.sample \\\\\\n    --ref_keep /home/arholman/final/rfmix2/1kg.ref \\\\\\n    --chr ${i} \\\\\\n    --genetic_map /datasets/cs284s-sp20-public/ps2/imputation/1000GP_Phase3/genetic_map_chr${i}_combined_b37.txt \\\\\\n    --out /home/arholman/final/rfmix2/rfmix\"\\n    echo $cmd\\ndone | xargs -I% -n1 -P2 sh -c \"%\"\\n'' returned non-zero exit status 123.",
     "output_type": "error",
     "traceback": [
      "\u001b[0;31m---------------------------------------------------------------------------\u001b[0m",
      "\u001b[0;31mCalledProcessError\u001b[0m                        Traceback (most recent call last)",
      "\u001b[0;32m<ipython-input-1-5130dd5bb77f>\u001b[0m in \u001b[0;36m<module>\u001b[0;34m\u001b[0m\n\u001b[0;32m----> 1\u001b[0;31m \u001b[0mget_ipython\u001b[0m\u001b[0;34m(\u001b[0m\u001b[0;34m)\u001b[0m\u001b[0;34m.\u001b[0m\u001b[0mrun_cell_magic\u001b[0m\u001b[0;34m(\u001b[0m\u001b[0;34m'bash'\u001b[0m\u001b[0;34m,\u001b[0m \u001b[0;34m''\u001b[0m\u001b[0;34m,\u001b[0m \u001b[0;34m'\\n# Prepare RFMix files for local ancestry\\n\\ncat /datasets/cs284s-sp20-public/ps2/imputation/1000GP_Phase3/1000GP_Phase3.sample| grep \"CDX\\\\|CEU\" | cut -d\\' \\' -f 1 > /home/arholman/final/rfmix2/1kg.ref\\ncat /datasets/cs284s-sp20-public/ps2/imputation/1000GP_Phase3/1000GP_Phase3.sample | grep \"HG01572\" | cut -d\\' \\' -f 1 >> /home/arholman/final/rfmix2/1kg.ref\\n\\nfor i in $(seq 1 22)\\ndo\\n    cmd=\"python2.7 /home/arholman/final/shapeit2rfmix-mg2.py \\\\\\n    --shapeit_hap_ref /datasets/cs284s-sp20-public/ps2/imputation/1000GP_Phase3/1000GP_Phase3_chr${i}.hap.gz \\\\\\n    --shapeit_hap_ref_legend /datasets/cs284s-sp20-public/ps2/imputation/1000GP_Phase3/1000GP_Phase3_chr${i}.legend.gz \\\\\\n    --shapeit_sample_ref /datasets/cs284s-sp20-public/ps2/imputation/1000GP_Phase3/1000GP_Phase3.sample \\\\\\n    --ref_keep /home/arholman/final/rfmix2/1kg.ref \\\\\\n    --chr ${i} \\\\\\n    --genetic_map /datasets/cs284s-sp20-public/ps2/imputation/1000GP_Phase3/genetic_map_chr${i}_combined_b37.txt \\\\\\n    --out /home/arholman/final/rfmix2/rfmix\"\\n    echo $cmd\\ndone | xargs -I% -n1 -P2 sh -c \"%\"\\n'\u001b[0m\u001b[0;34m)\u001b[0m\u001b[0;34m\u001b[0m\u001b[0;34m\u001b[0m\u001b[0m\n\u001b[0m",
      "\u001b[0;32m/opt/conda/lib/python3.6/site-packages/IPython/core/interactiveshell.py\u001b[0m in \u001b[0;36mrun_cell_magic\u001b[0;34m(self, magic_name, line, cell)\u001b[0m\n\u001b[1;32m   2321\u001b[0m             \u001b[0mmagic_arg_s\u001b[0m \u001b[0;34m=\u001b[0m \u001b[0mself\u001b[0m\u001b[0;34m.\u001b[0m\u001b[0mvar_expand\u001b[0m\u001b[0;34m(\u001b[0m\u001b[0mline\u001b[0m\u001b[0;34m,\u001b[0m \u001b[0mstack_depth\u001b[0m\u001b[0;34m)\u001b[0m\u001b[0;34m\u001b[0m\u001b[0;34m\u001b[0m\u001b[0m\n\u001b[1;32m   2322\u001b[0m             \u001b[0;32mwith\u001b[0m \u001b[0mself\u001b[0m\u001b[0;34m.\u001b[0m\u001b[0mbuiltin_trap\u001b[0m\u001b[0;34m:\u001b[0m\u001b[0;34m\u001b[0m\u001b[0;34m\u001b[0m\u001b[0m\n\u001b[0;32m-> 2323\u001b[0;31m                 \u001b[0mresult\u001b[0m \u001b[0;34m=\u001b[0m \u001b[0mfn\u001b[0m\u001b[0;34m(\u001b[0m\u001b[0mmagic_arg_s\u001b[0m\u001b[0;34m,\u001b[0m \u001b[0mcell\u001b[0m\u001b[0;34m)\u001b[0m\u001b[0;34m\u001b[0m\u001b[0;34m\u001b[0m\u001b[0m\n\u001b[0m\u001b[1;32m   2324\u001b[0m             \u001b[0;32mreturn\u001b[0m \u001b[0mresult\u001b[0m\u001b[0;34m\u001b[0m\u001b[0;34m\u001b[0m\u001b[0m\n\u001b[1;32m   2325\u001b[0m \u001b[0;34m\u001b[0m\u001b[0m\n",
      "\u001b[0;32m/opt/conda/lib/python3.6/site-packages/IPython/core/magics/script.py\u001b[0m in \u001b[0;36mnamed_script_magic\u001b[0;34m(line, cell)\u001b[0m\n\u001b[1;32m    140\u001b[0m             \u001b[0;32melse\u001b[0m\u001b[0;34m:\u001b[0m\u001b[0;34m\u001b[0m\u001b[0;34m\u001b[0m\u001b[0m\n\u001b[1;32m    141\u001b[0m                 \u001b[0mline\u001b[0m \u001b[0;34m=\u001b[0m \u001b[0mscript\u001b[0m\u001b[0;34m\u001b[0m\u001b[0;34m\u001b[0m\u001b[0m\n\u001b[0;32m--> 142\u001b[0;31m             \u001b[0;32mreturn\u001b[0m \u001b[0mself\u001b[0m\u001b[0;34m.\u001b[0m\u001b[0mshebang\u001b[0m\u001b[0;34m(\u001b[0m\u001b[0mline\u001b[0m\u001b[0;34m,\u001b[0m \u001b[0mcell\u001b[0m\u001b[0;34m)\u001b[0m\u001b[0;34m\u001b[0m\u001b[0;34m\u001b[0m\u001b[0m\n\u001b[0m\u001b[1;32m    143\u001b[0m \u001b[0;34m\u001b[0m\u001b[0m\n\u001b[1;32m    144\u001b[0m         \u001b[0;31m# write a basic docstring:\u001b[0m\u001b[0;34m\u001b[0m\u001b[0;34m\u001b[0m\u001b[0;34m\u001b[0m\u001b[0m\n",
      "\u001b[0;32m<decorator-gen-109>\u001b[0m in \u001b[0;36mshebang\u001b[0;34m(self, line, cell)\u001b[0m\n",
      "\u001b[0;32m/opt/conda/lib/python3.6/site-packages/IPython/core/magic.py\u001b[0m in \u001b[0;36m<lambda>\u001b[0;34m(f, *a, **k)\u001b[0m\n\u001b[1;32m    185\u001b[0m     \u001b[0;31m# but it's overkill for just that one bit of state.\u001b[0m\u001b[0;34m\u001b[0m\u001b[0;34m\u001b[0m\u001b[0;34m\u001b[0m\u001b[0m\n\u001b[1;32m    186\u001b[0m     \u001b[0;32mdef\u001b[0m \u001b[0mmagic_deco\u001b[0m\u001b[0;34m(\u001b[0m\u001b[0marg\u001b[0m\u001b[0;34m)\u001b[0m\u001b[0;34m:\u001b[0m\u001b[0;34m\u001b[0m\u001b[0;34m\u001b[0m\u001b[0m\n\u001b[0;32m--> 187\u001b[0;31m         \u001b[0mcall\u001b[0m \u001b[0;34m=\u001b[0m \u001b[0;32mlambda\u001b[0m \u001b[0mf\u001b[0m\u001b[0;34m,\u001b[0m \u001b[0;34m*\u001b[0m\u001b[0ma\u001b[0m\u001b[0;34m,\u001b[0m \u001b[0;34m**\u001b[0m\u001b[0mk\u001b[0m\u001b[0;34m:\u001b[0m \u001b[0mf\u001b[0m\u001b[0;34m(\u001b[0m\u001b[0;34m*\u001b[0m\u001b[0ma\u001b[0m\u001b[0;34m,\u001b[0m \u001b[0;34m**\u001b[0m\u001b[0mk\u001b[0m\u001b[0;34m)\u001b[0m\u001b[0;34m\u001b[0m\u001b[0;34m\u001b[0m\u001b[0m\n\u001b[0m\u001b[1;32m    188\u001b[0m \u001b[0;34m\u001b[0m\u001b[0m\n\u001b[1;32m    189\u001b[0m         \u001b[0;32mif\u001b[0m \u001b[0mcallable\u001b[0m\u001b[0;34m(\u001b[0m\u001b[0marg\u001b[0m\u001b[0;34m)\u001b[0m\u001b[0;34m:\u001b[0m\u001b[0;34m\u001b[0m\u001b[0;34m\u001b[0m\u001b[0m\n",
      "\u001b[0;32m/opt/conda/lib/python3.6/site-packages/IPython/core/magics/script.py\u001b[0m in \u001b[0;36mshebang\u001b[0;34m(self, line, cell)\u001b[0m\n\u001b[1;32m    243\u001b[0m             \u001b[0msys\u001b[0m\u001b[0;34m.\u001b[0m\u001b[0mstderr\u001b[0m\u001b[0;34m.\u001b[0m\u001b[0mflush\u001b[0m\u001b[0;34m(\u001b[0m\u001b[0;34m)\u001b[0m\u001b[0;34m\u001b[0m\u001b[0;34m\u001b[0m\u001b[0m\n\u001b[1;32m    244\u001b[0m         \u001b[0;32mif\u001b[0m \u001b[0margs\u001b[0m\u001b[0;34m.\u001b[0m\u001b[0mraise_error\u001b[0m \u001b[0;32mand\u001b[0m \u001b[0mp\u001b[0m\u001b[0;34m.\u001b[0m\u001b[0mreturncode\u001b[0m\u001b[0;34m!=\u001b[0m\u001b[0;36m0\u001b[0m\u001b[0;34m:\u001b[0m\u001b[0;34m\u001b[0m\u001b[0;34m\u001b[0m\u001b[0m\n\u001b[0;32m--> 245\u001b[0;31m             \u001b[0;32mraise\u001b[0m \u001b[0mCalledProcessError\u001b[0m\u001b[0;34m(\u001b[0m\u001b[0mp\u001b[0m\u001b[0;34m.\u001b[0m\u001b[0mreturncode\u001b[0m\u001b[0;34m,\u001b[0m \u001b[0mcell\u001b[0m\u001b[0;34m,\u001b[0m \u001b[0moutput\u001b[0m\u001b[0;34m=\u001b[0m\u001b[0mout\u001b[0m\u001b[0;34m,\u001b[0m \u001b[0mstderr\u001b[0m\u001b[0;34m=\u001b[0m\u001b[0merr\u001b[0m\u001b[0;34m)\u001b[0m\u001b[0;34m\u001b[0m\u001b[0;34m\u001b[0m\u001b[0m\n\u001b[0m\u001b[1;32m    246\u001b[0m \u001b[0;34m\u001b[0m\u001b[0m\n\u001b[1;32m    247\u001b[0m     \u001b[0;32mdef\u001b[0m \u001b[0m_run_script\u001b[0m\u001b[0;34m(\u001b[0m\u001b[0mself\u001b[0m\u001b[0;34m,\u001b[0m \u001b[0mp\u001b[0m\u001b[0;34m,\u001b[0m \u001b[0mcell\u001b[0m\u001b[0;34m,\u001b[0m \u001b[0mto_close\u001b[0m\u001b[0;34m)\u001b[0m\u001b[0;34m:\u001b[0m\u001b[0;34m\u001b[0m\u001b[0;34m\u001b[0m\u001b[0m\n",
      "\u001b[0;31mCalledProcessError\u001b[0m: Command 'b'\\n# Prepare RFMix files for local ancestry\\n\\ncat /datasets/cs284s-sp20-public/ps2/imputation/1000GP_Phase3/1000GP_Phase3.sample| grep \"CDX\\\\|CEU\" | cut -d\\' \\' -f 1 > /home/arholman/final/rfmix2/1kg.ref\\ncat /datasets/cs284s-sp20-public/ps2/imputation/1000GP_Phase3/1000GP_Phase3.sample | grep \"HG01572\" | cut -d\\' \\' -f 1 >> /home/arholman/final/rfmix2/1kg.ref\\n\\nfor i in $(seq 1 22)\\ndo\\n    cmd=\"python2.7 /home/arholman/final/shapeit2rfmix-mg2.py \\\\\\n    --shapeit_hap_ref /datasets/cs284s-sp20-public/ps2/imputation/1000GP_Phase3/1000GP_Phase3_chr${i}.hap.gz \\\\\\n    --shapeit_hap_ref_legend /datasets/cs284s-sp20-public/ps2/imputation/1000GP_Phase3/1000GP_Phase3_chr${i}.legend.gz \\\\\\n    --shapeit_sample_ref /datasets/cs284s-sp20-public/ps2/imputation/1000GP_Phase3/1000GP_Phase3.sample \\\\\\n    --ref_keep /home/arholman/final/rfmix2/1kg.ref \\\\\\n    --chr ${i} \\\\\\n    --genetic_map /datasets/cs284s-sp20-public/ps2/imputation/1000GP_Phase3/genetic_map_chr${i}_combined_b37.txt \\\\\\n    --out /home/arholman/final/rfmix2/rfmix\"\\n    echo $cmd\\ndone | xargs -I% -n1 -P2 sh -c \"%\"\\n'' returned non-zero exit status 123."
     ]
    }
   ],
   "source": [
    "%%bash\n",
    "\n",
    "cat /datasets/cs284s-sp20-public/ps2/imputation/1000GP_Phase3/1000GP_Phase3.sample| grep \"CDX\\|CEU\" | cut -d' ' -f 1 > /home/arholman/final/rfmix2/1kg.ref\n",
    "cat /datasets/cs284s-sp20-public/ps2/imputation/1000GP_Phase3/1000GP_Phase3.sample | grep \"HG02380\" | cut -d' ' -f 1 >> /home/arholman/final/rfmix2/1kg.ref\n",
    "\n",
    "for i in $(seq 1 22)\n",
    "do\n",
    "    cmd=\"python2.7 /home/arholman/final/shapeit2rfmix-mg2.py \\\n",
    "    --shapeit_hap_ref /datasets/cs284s-sp20-public/ps2/imputation/1000GP_Phase3/1000GP_Phase3_chr${i}.hap.gz \\\n",
    "    --shapeit_hap_ref_legend /datasets/cs284s-sp20-public/ps2/imputation/1000GP_Phase3/1000GP_Phase3_chr${i}.legend.gz \\\n",
    "    --shapeit_sample_ref /datasets/cs284s-sp20-public/ps2/imputation/1000GP_Phase3/1000GP_Phase3.sample \\\n",
    "    --ref_keep /home/arholman/final/rfmix2/1kg.ref \\\n",
    "    --chr ${i} \\\n",
    "    --genetic_map /datasets/cs284s-sp20-public/ps2/imputation/1000GP_Phase3/genetic_map_chr${i}_combined_b37.txt \\\n",
    "    --out /home/arholman/final/rfmix2/rfmix\"\n",
    "    echo $cmd\n",
    "done | xargs -I% -n1 -P2 sh -c \"%\""
   ]
  },
  {
   "cell_type": "markdown",
   "metadata": {},
   "source": [
    "### Fix classes file"
   ]
  },
  {
   "cell_type": "code",
   "execution_count": 15,
   "metadata": {},
   "outputs": [],
   "source": [
    "%%bash\n",
    "\n",
    "cat /datasets/cs284s-sp20-public/ps2/imputation/1000GP_Phase3/1000GP_Phase3.sample | grep \"CDX\\|CEU\" | cut -f 2 -d' ' | sed 's/CDX/1/' | sed 's/CEU/2/'| awk '{print $0\"\\n\"$0}' > /home/arholman/final/rfmix2/rfmix.classes\n",
    "echo 0 | awk '{print $0\"\\n\"$0}' >> /home/arholman/final/rfmix2/rfmix.classes\n",
    "cat /home/arholman/final/rfmix2/rfmix.classes | datamash transpose | sed 's/\\t/ /g' > del\n",
    "mv del /home/arholman/final/rfmix2/rfmix.classes"
   ]
  },
  {
   "cell_type": "markdown",
   "metadata": {},
   "source": [
    "## Next, we performed RFMix\n",
    "Here, we are taking the alleles and snp locations for each chromosome and determining ancestry throughout the chromosome based on the haplotype of the individual. Here, the output we want to focus on is the Viterbi files. "
   ]
  },
  {
   "cell_type": "code",
   "execution_count": null,
   "metadata": {},
   "outputs": [],
   "source": [
    "%%bash\n",
    "\n",
    "cd /sources/RFMix_v1.5.4/\n",
    "\n",
    "for chrom in $(seq 13 22);\n",
    "do\n",
    "    echo \"Running RFMix on chr${chrom}\"\n",
    "    python2.7 RunRFMix.py \\\n",
    "       --forward-backward \\\n",
    "       -w 0.2 \\\n",
    "       PopPhased \\\n",
    "       /home/arholman/final/rfmix2/rfmix_chr${chrom}.alleles \\\n",
    "       /home/arholman/final/rfmix2/rfmix.classes \\\n",
    "       /home/arholman/final/rfmix2/rfmix_chr${chrom}.snp_locations \\\n",
    "       -o ~/final/rfmix2/rfmix_${chrom}\n",
    "done\n"
   ]
  },
  {
   "cell_type": "markdown",
   "metadata": {},
   "source": [
    "## After performing RFMix, we need to change RFMix output into a format for plotting the karyotype"
   ]
  },
  {
   "cell_type": "markdown",
   "metadata": {},
   "source": [
    "### First, paste together map and Viterbi files\n",
    "Chromosome range depends on the chromosomes processed by RFMix."
   ]
  },
  {
   "cell_type": "code",
   "execution_count": 18,
   "metadata": {},
   "outputs": [],
   "source": [
    "%%bash\n",
    "\n",
    "DIR=/home/arholman/final/rfmix2\n",
    "\n",
    "for chrom in {13..13} {15..22};\n",
    "do\n",
    "    for hapcol in $(seq 4 5)\n",
    "    do\n",
    "    paste ${DIR}/rfmix_chr${chrom}.map ${DIR}/rfmix_${chrom}.0.Viterbi.txt | \\\n",
    "    sed 's/ /\\t/g' | \\\n",
    "    datamash -g $hapcol min 1 max 1 min 2 max 2 > ${DIR}/chr${chrom}_$hapcol.txt\n",
    "    done\n",
    "done"
   ]
  },
  {
   "cell_type": "markdown",
   "metadata": {},
   "source": [
    "### Next, replace numbers with subpopulations"
   ]
  },
  {
   "cell_type": "code",
   "execution_count": 19,
   "metadata": {},
   "outputs": [],
   "source": [
    "%%bash\n",
    "\n",
    "DIR=/home/arholman/final/rfmix2\n",
    "\n",
    "for chrom in {13..13} {15..22}\n",
    "do\n",
    "    for hapcol in $(seq 4 5)\n",
    "    do\n",
    "    sed 's/^1/CDX/ ; s/^2/CEU/' ${DIR}/chr${chrom}_${hapcol}.txt > ${DIR}/chr${chrom}_${hapcol}.2.txt\n",
    "    done\n",
    "done"
   ]
  },
  {
   "cell_type": "markdown",
   "metadata": {},
   "source": [
    "### After, add the chromosome numbers"
   ]
  },
  {
   "cell_type": "code",
   "execution_count": 20,
   "metadata": {},
   "outputs": [],
   "source": [
    "%%bash\n",
    "\n",
    "DIR=/home/arholman/final/rfmix2\n",
    "\n",
    "for chrom in {13..13} {15..22}\n",
    "do\n",
    "    for hapcol in $(seq 4 5)\n",
    "    do\n",
    "    awk '{printf(\"%s\\t%s\\n\", $0, \"'${chrom}'\") }' ${DIR}/chr${chrom}_${hapcol}.2.txt > ${DIR}/chr${chrom}_${hapcol}.3.txt\n",
    "    done\n",
    "done\n"
   ]
  },
  {
   "cell_type": "markdown",
   "metadata": {},
   "source": [
    "### Following this, combine chromosomes into one file"
   ]
  },
  {
   "cell_type": "code",
   "execution_count": 21,
   "metadata": {},
   "outputs": [],
   "source": [
    "%%bash\n",
    "\n",
    "DIR=/home/arholman/final/rfmix2\n",
    "\n",
    "for chrom in {13..13} {15..22}\n",
    "do\n",
    "    for hapcol in $(seq 4 5)\n",
    "    do\n",
    "    cat ${DIR}/chr${chrom}_${hapcol}.3.txt >> ${DIR}/hap.${hapcol}.txt\n",
    "    done\n",
    "done"
   ]
  },
  {
   "cell_type": "markdown",
   "metadata": {},
   "source": [
    "### Lastly, match the columns to the bed file for the karyotyping"
   ]
  },
  {
   "cell_type": "code",
   "execution_count": 22,
   "metadata": {},
   "outputs": [],
   "source": [
    "%%bash\n",
    "\n",
    "DIR=/home/arholman/final/rfmix2\n",
    "\n",
    "for hapcol in $(seq 4 5)\n",
    "do\n",
    "    if test $hapcol=4\n",
    "    then \n",
    "    awk '{print $6 \"\\t\" $2 \"\\t\" $3 \"\\t\" $1 \"\\t\" $4 \"\\t\"  $5 }' ${DIR}/hap.4.txt > ${DIR}/inferred_hap_samp0_0.bed\n",
    "    fi\n",
    "    if test $hapcol=5\n",
    "    then \n",
    "    awk '{print $6 \"\\t\" $2 \"\\t\" $3 \"\\t\" $1 \"\\t\" $4 \"\\t\"  $5 }' ${DIR}/hap.5.txt > ${DIR}/inferred_hap_samp0_1.bed\n",
    "    fi\n",
    "done\n"
   ]
  },
  {
   "cell_type": "markdown",
   "metadata": {},
   "source": [
    "## After, we plotted the karyotype of the individuals"
   ]
  },
  {
   "cell_type": "markdown",
   "metadata": {},
   "source": [
    "### Plot for HG01572 (PEL), the admixed individual"
   ]
  },
  {
   "cell_type": "code",
   "execution_count": 12,
   "metadata": {},
   "outputs": [
    {
     "name": "stdout",
     "output_type": "stream",
     "text": [
      "Populating the interactive namespace from numpy and matplotlib\n"
     ]
    },
    {
     "data": {
      "image/png": "[encoded data removed]",
      "text/plain": [
       "<Figure size 432x288 with 1 Axes>"
      ]
     },
     "metadata": {
      "needs_background": "light"
     },
     "output_type": "display_data"
    }
   ],
   "source": [
    "%pylab inline\n",
    "\n",
    "import plot_karyogram as pk\n",
    "\n",
    "bed_a = \"/home/arholman/final/rfmix2/inferred_hap_samp0_0.bed\"\n",
    "bed_b = \"/home/arholman/final/rfmix2/inferred_hap_samp0_1.bed\"\n",
    "pk.PlotKaryogram(bed_a, bed_b, 0, [\"CDX\",\"CEU\"])\n",
    "    \n",
    "plt.show()    "
   ]
  },
  {
   "cell_type": "markdown",
   "metadata": {},
   "source": [
    "### Plot for HG02380 (CDX), the control individual"
   ]
  },
  {
   "cell_type": "code",
   "execution_count": 23,
   "metadata": {},
   "outputs": [
    {
     "name": "stdout",
     "output_type": "stream",
     "text": [
      "Populating the interactive namespace from numpy and matplotlib\n"
     ]
    },
    {
     "data": {
      "image/png": "[encoded data removed]",
      "text/plain": [
       "<Figure size 432x288 with 1 Axes>"
      ]
     },
     "metadata": {
      "needs_background": "light"
     },
     "output_type": "display_data"
    }
   ],
   "source": [
    "%pylab inline\n",
    "\n",
    "import plot_karyogram as pk\n",
    "\n",
    "bed_a = \"/home/arholman/final/rfmix2/inferred_hap_samp0_0.bed\"\n",
    "bed_b = \"/home/arholman/final/rfmix2/inferred_hap_samp0_1.bed\"\n",
    "pk.PlotKaryogram(bed_a, bed_b, 0, [\"CDX\",\"CEU\"])\n",
    "    \n",
    "plt.show()    "
   ]
  },
  {
   "cell_type": "markdown",
   "metadata": {},
   "source": [
    "## Lastly, to find the best dimensionality reduction model, we calculated which percent the individual is of CDX, CEU, or BEB"
   ]
  },
  {
   "cell_type": "code",
   "execution_count": 52,
   "metadata": {},
   "outputs": [
    {
     "name": "stdout",
     "output_type": "stream",
     "text": [
      "The percent of CEU is 23.724143828234784%, BEB is 22.75395815216242%, and CDX is 53.5218980196028%\n"
     ]
    }
   ],
   "source": [
    "# import packages\n",
    "import os\n",
    "import pandas as pd\n",
    "\n",
    "# import hap4 and hap5 files\n",
    "hap5txt = os.path.join(os.environ[\"HOME\"], \"final/rfmix1,3pop,HG01572\", \"hap.5.txt\")\n",
    "hap5 = pd.read_csv(hap5txt, sep='\\t', header=None)\n",
    "hap4txt = os.path.join(os.environ[\"HOME\"], \"final/rfmix1,3pop,HG01572\", \"hap.4.txt\")\n",
    "hap4 = pd.read_csv(hap4txt, sep='\\t', header=None)\n",
    "\n",
    "# first, pull the distance in cM of each chromosome chunk per population\n",
    "ceu_length = []\n",
    "beb_length = []\n",
    "cdx_length = []\n",
    "for i in range(len(hap5)):\n",
    "    if hap5.iloc[i,0] == 'CEU': # change for pop of interest\n",
    "        dif_ceu = hap5.iloc[i,4] - hap5.iloc[i,3]\n",
    "        ceu_length.append(dif_ceu)\n",
    "    elif hap5.iloc[i,0] == 'BEB': # change for pop of interest\n",
    "        dif_beb = hap5.iloc[i,4] - hap5.iloc[i,3]\n",
    "        beb_length.append(dif_beb)\n",
    "    elif hap5.iloc[i,0] == 'CDX': # change for pop of interest\n",
    "        dif_cdx = hap5.iloc[i,4] - hap5.iloc[i,3]\n",
    "        cdx_length.append(dif_cdx)\n",
    "    else:\n",
    "        pass\n",
    "\n",
    "for i in range(len(hap4)):\n",
    "    if hap4.iloc[i,0] == 'CEU': # change for pop of interest\n",
    "        dif_ceu = hap4.iloc[i,4] - hap4.iloc[i,3]\n",
    "        ceu_length.append(dif_ceu)\n",
    "    elif hap4.iloc[i,0] == 'BEB': # change for pop of interest\n",
    "        dif_beb = hap4.iloc[i,4] - hap4.iloc[i,3]\n",
    "        beb_length.append(dif_beb)\n",
    "    elif hap4.iloc[i,0] == 'CDX': # change for pop of interest\n",
    "        dif_cdx = hap4.iloc[i,4] - hap4.iloc[i,3]\n",
    "        cdx_length.append(dif_cdx)\n",
    "    else:\n",
    "        pass\n",
    "    \n",
    "# next, find the sum of all of the chunks\n",
    "ceu_sum = sum(ceu_length)\n",
    "beb_sum = sum(beb_length)\n",
    "cdx_sum = sum(cdx_length)\n",
    "all_length = ceu_sum + beb_sum + cdx_sum\n",
    "\n",
    "# lastly, find percentages of overall to see admixture %%\n",
    "perc_ceu = ceu_sum/all_length\n",
    "perc_beb = beb_sum/all_length\n",
    "perc_cdx = cdx_sum/all_length\n",
    "\n",
    "# print percents\n",
    "print(\"The percent of CEU is {}%, BEB is {}%, and CDX is {}%\".format(perc_ceu*100, perc_beb*100, perc_cdx*100))\n"
   ]
  }
 ],
 "metadata": {
  "kernelspec": {
   "display_name": "Python 3",
   "language": "python",
   "name": "python3"
  },
  "language_info": {
   "codemirror_mode": {
    "name": "ipython",
    "version": 3
   },
   "file_extension": ".py",
   "mimetype": "text/x-python",
   "name": "python",
   "nbconvert_exporter": "python",
   "pygments_lexer": "ipython3",
   "version": "3.6.7"
  }
 },
 "nbformat": 4,
 "nbformat_minor": 2
}
